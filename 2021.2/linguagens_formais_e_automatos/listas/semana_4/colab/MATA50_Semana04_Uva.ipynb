{
  "nbformat": 4,
  "nbformat_minor": 0,
  "metadata": {
    "colab": {
      "name": "MATA50-Semana04-Uva.ipynb",
      "provenance": [],
      "collapsed_sections": []
    },
    "kernelspec": {
      "name": "python3",
      "display_name": "Python 3"
    },
    "language_info": {
      "name": "python"
    }
  },
  "cells": [
    {
      "cell_type": "markdown",
      "metadata": {
        "id": "EC51xd8L1WzV"
      },
      "source": [
        "# MATA50 - Exercícios da Semana 04\n",
        "\n",
        "*   Grupo: Uva\n",
        "*   Autores: Felipe Carvalho Góes (Responsável), Paulo Henrique Santos Carvalho Medrado, João Lucas Lima de Melo, Ricardo Sales Rios\n",
        "\n"
      ]
    },
    {
      "cell_type": "markdown",
      "metadata": {
        "id": "9_9I0TfW94ov"
      },
      "source": [
        "# Instruções (não apagar)\n",
        "1.   Após criar este notebook, altere o nome do notebook/documentação incluindo o nome do vegetal do seu grupo. Por exemplo, se você é do grupo Carambola, altere o nome do notebook para \"MATA50-Semana04-Carambola.ipynb\"\n",
        "1. Compartilhe este documento com todos os membros do grupo (para participarem da elaboração deste documento). É importante que o notebook utilizado seja o mesmo compartilhado para que os registros de participação e colaboração fiquem salvos no histórico.\n",
        "1.   Incluia o nome completo dos autores na lista de autores que auxiliaram na elaboração deste notebook. Destaque o responsável como sendo o(a) primeiro(a) autor(a).\n",
        "1. Utilize os recursos de blocos de texto e de código para adicionar as suas respostas, sem alterar os blocos de texto e código existente. Não economize, esses blocos são de graça.\n",
        "1. Ao concluir a atividade, compartilhe o notebook com januario.ufba@gmail.com (dando permisão para edição) e deixando o aviso de notificação marcado, para que eu receba o seu e-mail.\n",
        "\n"
      ]
    },
    {
      "cell_type": "code",
      "metadata": {
        "id": "TM_UtFZ-BmZ8",
        "cellView": "form"
      },
      "source": [
        "#@title Implementação dos modelos em Python\n",
        "#@markdown Esta célula contém a implementação em Python 3 dos principais modelos de computação vistos na disciplina de Linguagens Formais e Autômatos. \n",
        "#@markdown Não é necessário conhecer o código aqui implementado ou mesmo ter um conhecimento profundo da linguagem Python. Acompanhe os exemplos e experimente construir seus próprios modelos.\n",
        " \n",
        "#@markdown >*Execute esta célula (`ctrl+enter` ou clicando no botão ao lado) para que o ambiente seja carregado com as classes implementadas.*\n",
        " \n",
        "from graphviz import Digraph\n",
        "import re\n",
        " \n",
        "class AP: \n",
        "    def __init__(self, Q={}, Sigma={}, Gamma={}, delta={}, q0=0, F={}):\n",
        "        self.states = Q\n",
        "        self.inputAlphabet = Sigma\n",
        "        self.stackAlphabet = Gamma\n",
        "        self.transition = delta\n",
        "        self.startState = q0\n",
        "        self.acceptStates = F \n",
        " \n",
        "        self.initialize()\n",
        " \n",
        "    def initialize(self, input_string=\"\"):\n",
        "        self.traces = [[(self.startState,tuple(input_string),())]]\n",
        " \n",
        "    def check(self):\n",
        "        pass\n",
        "        \n",
        "    def hasNext(self):\n",
        "        return self.traces and (not self.acceptTraces())\n",
        "    \n",
        "    def acceptTraces(self):\n",
        "        return [t for t in self.traces if t[-1][1] == () and t[-1][0] in self.acceptStates]\n",
        " \n",
        "    def step(self):\n",
        "        updated_traces = []\n",
        "        for trace in self.traces:\n",
        "          s, string, stack = trace[-1]\n",
        "          A = {'', string[0]} if string else {''}\n",
        "          B = {'', stack[-1]} if stack else {''}\n",
        "          possible_transitions = [(s,a,b) for a in A for b in B if (s,a,b) in self.transition]          \n",
        "          for (s,a,b) in possible_transitions:  \n",
        "            for r,c in self.transition[s,a,b]:\n",
        "              nstring = string[1:] if a else string\n",
        "              nstack  = stack[:-1] if b else stack\n",
        "              nstack  = nstack+(c,) if c else nstack\n",
        "              if (not (r,nstring,nstack) in trace):\n",
        "                updated_traces.append(trace+[(r,nstring,nstack)])\n",
        "        self.traces = updated_traces\n",
        " \n",
        "    def run(self, input_string=0, max_steps=1000):        \n",
        "        while (self.hasNext()): \n",
        "          if max_steps == 0: \n",
        "            raise Exception(\"Timeout\")\n",
        "          self.step()\n",
        "          max_steps -= 1\n",
        "        return self.result()\n",
        " \n",
        "    def aceita(self, input_string=0):\n",
        "        self.initialize(input_string)\n",
        "        return self.run()\n",
        " \n",
        "    def result(self):\n",
        "        return True if self.acceptTraces() else (False if (not self.traces) else None)\n",
        "    \n",
        "    def visualizar(self):      \n",
        "        f = Digraph('finite_state_machine', filename='fsm.gv')\n",
        "        f.attr(rankdir='LR', size='8,5')\n",
        " \n",
        "        f.attr('node', shape='point')\n",
        "        f.node('')\n",
        "        \n",
        "        f.attr('node', shape='doublecircle')\n",
        "        for n in self.acceptStates:\n",
        "          f.node(str(n))\n",
        " \n",
        "        f.attr('node', shape='circle')\n",
        "        for n in self.states.difference(self.acceptStates):\n",
        "          f.node(str(n))\n",
        " \n",
        "        label = {}        \n",
        "        for (q,a,b) in self.transition:\n",
        "          for (r,c) in self.transition[q,a,b]:          \n",
        "            label[q,r] = label[q,r]+[(a,b,c)] if (q,r) in label else [(a,b,c)]\n",
        " \n",
        "        f.edge('', str(self.startState))\n",
        "        for (q,r) in label:\n",
        "          f.edge(str(q),str(r),label=self.graphviz_edge_label_format(label[q,r]))      \n",
        "          pass\n",
        "        \n",
        "        return f\n",
        "    \n",
        "    def graphviz_edge_label_format(self,labels=[]):\n",
        "        epsilon = \"\\u03BB\"\n",
        "        right_arrow = \"\\u2192\"\n",
        "        return '\\n'.join([(a if (a or a==0) else epsilon) + \",\" + (b if (b or b==0) else epsilon) + right_arrow + (c if (c or c==0) else epsilon) for (a,b,c) in labels])\n",
        "        # return '\\n'.join([(str(a) if a else epsilon) + \",\" + (str(b) if b else epsilon) + right_arrow + (str(c) if c else epsilon) for (a,b,c) in labels])\n",
        " \n",
        "class AFN(AP):\n",
        "  def __init__(self, Q={}, Sigma={}, delta={}, q0=0, F={}):\n",
        "        delta_pda = {}\n",
        "        for q,a in delta:\n",
        "          delta_pda[q,a,''] = {(r,'') for r in delta[q,a]}\n",
        "        super().__init__(Q,Sigma,{},delta_pda,q0,F)\n",
        "  \n",
        "  def graphviz_edge_label_format(self,labels):\n",
        "      epsilon = \"\\u03B5\"\n",
        "      return \",\".join([(str(a) if (a or a==0) else epsilon) for (a,b,c) in labels])\n",
        " \n",
        "class AFD(AFN):\n",
        "  def __init__(self, Q={}, Sigma={}, delta={}, q0=0, F={}):\n",
        "        delta_nfa = {}\n",
        "        for (q,a) in delta:\n",
        "          delta_nfa[q,a] = {delta[q,a]}\n",
        "        super().__init__(Q,Sigma,delta_nfa,q0,F)\n",
        " \n",
        "class ER:\n",
        "  def __init__(self,regex=None):  \n",
        "    if (regex == None):\n",
        "      self.regex = None\n",
        "    elif (re.match(\"^[a-zA-Z0-9\\(\\)\\|\\*]*$\", regex)):\n",
        "      self.regex = regex\n",
        "    else:\n",
        "      raise Exception(\"Invalid pattern\")\n",
        " \n",
        "  def gera(self, input_string):\n",
        "    if (self.regex == None):\n",
        "      return False\n",
        "    else:\n",
        "      return True if re.match(\"^\"+self.regex+\"$\",input_string) else False\n",
        " \n",
        "class GLC:\n",
        "  def __init__(self,V,Sigma,R,S):\n",
        "      self.variables = V\n",
        "      self.terminals = Sigma\n",
        "      # self.rules = R\n",
        "      self.rules = {(a, tuple(b)) for (a,b) in R}\n",
        "      self.start = S\n",
        " \n",
        "      self.derivation = []\n",
        "      self.chomsky = None\n",
        "  \n",
        "  def gera(self, string):\n",
        "      if (not self.chomsky):\n",
        "        self.chomsky = self.to_chomsky()        \n",
        "      G = self.chomsky\n",
        "      \n",
        "      if len(string) == 0: return (G.start,()) in G.rules\n",
        " \n",
        "      # CYK Algorithm\n",
        "      n = len(string)\n",
        "      P = [[[] for x in range(n - y)] for y in range(n)]\n",
        "      for i,c in enumerate(string):\n",
        "        for v in [a for (a,b) in G.rules if len(b) == 1 and c in b]:\n",
        "          P[0][i] += [v]\n",
        "      for l in range(2, n+1): # borda da iteração\n",
        "        for s in range(0, n+1-l): # coluna\n",
        "          for p in range(1, l): # linha\n",
        "            for u, v in [(a,b) for (a,b) in G.rules if len(b) == 2]:\n",
        "              if v[0] in P[p-1][s] and v[1] in P[l-p-1][s+p]:\n",
        "                P[l-1][s] += [u]\n",
        "      return G.start in P[-1][0]\n",
        " \n",
        "  def print(self):\n",
        "      rightarrow = \"\\u2192\"\n",
        "      print(self.start,rightarrow, '|'.join([''.join(y) for x,y in self.rules if x == S]))\n",
        "      for v in sorted(self.variables.difference(self.start)): \n",
        "        print(v,rightarrow, '|'.join([''.join(y) for x,y in self.rules if x == v]))\n",
        " \n",
        "  def replace_eps(self, v, l):\n",
        "    if not l: return {()}\n",
        "    result = {(l[0],) + s for s in self.replace_eps(v, tuple(l[1:]))}\n",
        "    if l[0] == v:\n",
        "      result.update({tuple(s[1:]) for s in result})\n",
        "    return result   \n",
        " \n",
        "  def to_chomsky(self):\n",
        "      n_state = 0\n",
        "      \n",
        "      S = '<{}>'.format(n_state)\n",
        "      Sigma = self.terminals \n",
        "      V = {S}.union(self.variables)\n",
        "      R = {(S,(self.start,))}.union(self.rules)\n",
        " \n",
        "      target = {alpha for alpha in self.variables if (alpha,()) in R}\n",
        "      while (target):\n",
        "        for e in target:\n",
        "          rules = {(alpha,beta) for (alpha,beta) in R if e in beta}\n",
        "          for (a,b) in rules:\n",
        "            R.update({(a, beta) for beta in self.replace_eps(e,b)})\n",
        "          R.discard((e,()))\n",
        "        target = {alpha for alpha in self.variables if (alpha,()) in R}\n",
        "      \n",
        "      target = {(a,b) for (a,b) in R if len(b) == 1 and b[0] in V}\n",
        "      while (target):\n",
        "        for u,v in target:\n",
        "          rules = {b for (a,b) in R if a == v[0]}\n",
        "          R.update({(u,b) for b in rules})\n",
        "          R.discard((u,v))\n",
        "        target = {(a,b) for (a,b) in R if len(b) == 1 and b[0] in V}\n",
        "      \n",
        "      target = {(alpha,beta) for (alpha,beta) in R if len(beta) > 2}\n",
        "      while(target):\n",
        "        for u,v in target:\n",
        "          n_state += 1\n",
        "          state = '<{}>'.format(n_state)\n",
        "          V.update({state})\n",
        "          R.update({(u,(v[0],state)),(state, tuple(v[1:]))})\n",
        "          R.discard((u,v))\n",
        "        target = {(alpha,beta) for (alpha,beta) in R if len(beta) > 2}\n",
        " \n",
        "      target = {(alpha,beta) for (alpha,beta) in R if len(beta) == 2}\n",
        "      for u,v in target:\n",
        "        n = list(v)\n",
        "        for i in range(2):\n",
        "          if v[i] in Sigma:\n",
        "            R.discard((u,(n[0],n[1])))\n",
        "            n_state += 1\n",
        "            n[i] = '<{}>'.format(n_state)\n",
        "            V.update({n[i]})\n",
        "            R.update({(u,(n[0],n[1]))})\n",
        "            R.update({(n[i],(v[i],))})\n",
        " \n",
        "      return GLC(V,Sigma,R,S)"
      ],
      "execution_count": null,
      "outputs": []
    },
    {
      "cell_type": "markdown",
      "metadata": {
        "id": "NqAD4jnTWIIW"
      },
      "source": [
        "# Exemplos (Apague os exemplos abaixo antes de compartilhar com o professor)"
      ]
    },
    {
      "cell_type": "code",
      "metadata": {
        "id": "67b0Fux_WOdJ"
      },
      "source": [
        "#@title 1. Construa um AFD para a seguinte linguagem sobre o alfabeto $\\Sigma = \\{0, 1\\}$: O conjunto das palavras que contem um ou dois 1’s, cujo tamanho é múltiplo de 3.\n",
        "Q = {'z1r0','z1r1','z1r2','u1r0','u1r1','u1r2','d1r0','d1r1','d1r2'}\n",
        "Sigma = {'0','1'}\n",
        "delta = {('z1r0','0'):'z1r1',\n",
        "         ('z1r1','0'):'z1r2',\n",
        "         ('z1r2','0'):'z1r0',\n",
        "         ('u1r0','0'):'u1r1',\n",
        "         ('u1r1','0'):'u1r2',\n",
        "         ('u1r2','0'):'u1r0',\n",
        "         ('d1r0','0'):'d1r1',\n",
        "         ('d1r1','0'):'d1r2',\n",
        "         ('d1r2','0'):'d1r0',\n",
        "         ('z1r0','1'):'u1r1',\n",
        "         ('z1r1','1'):'u1r2',\n",
        "         ('z1r2','1'):'u1r0',\n",
        "         ('u1r0','1'):'d1r1',\n",
        "         ('u1r1','1'):'d1r2',\n",
        "         ('u1r2','1'):'d1r0'}\n",
        "q0 = 'z1r0'\n",
        "F = {'u1r0','d1r0'}\n",
        "  \n",
        "M = AFD(Q,Sigma,delta,q0,F)\n",
        "M.visualizar()\n",
        "M.aceita(\"100\")"
      ],
      "execution_count": null,
      "outputs": []
    },
    {
      "cell_type": "code",
      "metadata": {
        "id": "cXNlEwZzSuFo",
        "colab": {
          "base_uri": "https://localhost:8080/",
          "height": 357
        },
        "outputId": "dfbc56fc-58dd-4691-b5b0-05a4caa04194"
      },
      "source": [
        "#@title 2. Construa um AFN sobre $\\Sigma = \\{a, b, c\\}$ que reconheça o conjunto das palavras em que o último símbolo não tenha ocorrido antes.\n",
        "Q = {'q0','ta','tb','tc','f'}\n",
        "Sigma = {'a','b','c'}\n",
        "delta = {('q0',''):{'ta','tb','tc'},\n",
        "         ('ta','b'):{'ta'},\n",
        "         ('ta','c'):{'ta'},\n",
        "         ('tb','a'):{'tb'},\n",
        "         ('tb','c'):{'tb'},\n",
        "         ('tc','a'):{'tc'},\n",
        "         ('tc','b'):{'tc'},\n",
        "         ('ta','a'):{'f'},\n",
        "         ('tb','b'):{'f'},\n",
        "         ('tc','c'):{'f'}}\n",
        "q0 = 'q0'\n",
        "F = {'q0','f'}\n",
        " \n",
        "M = AFN(Q,Sigma,delta,q0,F)\n",
        "M.visualizar()\n",
        "# M.aceita(\"aacacacacccacaccacaacab\")"
      ],
      "execution_count": null,
      "outputs": [
        {
          "output_type": "execute_result",
          "data": {
            "text/plain": [
              "<graphviz.dot.Digraph at 0x7fc7e2d3e290>"
            ],
            "image/svg+xml": "<?xml version=\"1.0\" encoding=\"UTF-8\" standalone=\"no\"?>\n<!DOCTYPE svg PUBLIC \"-//W3C//DTD SVG 1.1//EN\"\n \"http://www.w3.org/Graphics/SVG/1.1/DTD/svg11.dtd\">\n<!-- Generated by graphviz version 2.40.1 (20161225.0304)\n -->\n<!-- Title: finite_state_machine Pages: 1 -->\n<svg width=\"266pt\" height=\"251pt\"\n viewBox=\"0.00 0.00 265.59 251.20\" xmlns=\"http://www.w3.org/2000/svg\" xmlns:xlink=\"http://www.w3.org/1999/xlink\">\n<g id=\"graph0\" class=\"graph\" transform=\"scale(1 1) rotate(0) translate(4 247.1984)\">\n<title>finite_state_machine</title>\n<polygon fill=\"#ffffff\" stroke=\"transparent\" points=\"-4,4 -4,-247.1984 261.5931,-247.1984 261.5931,4 -4,4\"/>\n<g id=\"node1\" class=\"node\">\n<title></title>\n<ellipse fill=\"#000000\" stroke=\"#000000\" cx=\"1.8\" cy=\"-105.1984\" rx=\"1.8\" ry=\"1.8\"/>\n</g>\n<!-- q0 -->\n<g id=\"node3\" class=\"node\">\n<title>q0</title>\n<ellipse fill=\"none\" stroke=\"#000000\" cx=\"65.3982\" cy=\"-105.1984\" rx=\"20.6302\" ry=\"20.6302\"/>\n<ellipse fill=\"none\" stroke=\"#000000\" cx=\"65.3982\" cy=\"-105.1984\" rx=\"24.5979\" ry=\"24.5979\"/>\n<text text-anchor=\"middle\" x=\"65.3982\" y=\"-101.4984\" font-family=\"Times,serif\" font-size=\"14.00\" fill=\"#000000\">q0</text>\n</g>\n<!-- &#45;&gt;q0 -->\n<g id=\"edge1\" class=\"edge\">\n<title>&#45;&gt;q0</title>\n<path fill=\"none\" stroke=\"#000000\" d=\"M3.6348,-105.1984C7.8563,-105.1984 18.7828,-105.1984 30.2933,-105.1984\"/>\n<polygon fill=\"#000000\" stroke=\"#000000\" points=\"30.4051,-108.6985 40.4051,-105.1984 30.4051,-101.6985 30.4051,-108.6985\"/>\n</g>\n<!-- f -->\n<g id=\"node2\" class=\"node\">\n<title>f</title>\n<ellipse fill=\"none\" stroke=\"#000000\" cx=\"235.5931\" cy=\"-105.1984\" rx=\"18\" ry=\"18\"/>\n<ellipse fill=\"none\" stroke=\"#000000\" cx=\"235.5931\" cy=\"-105.1984\" rx=\"22\" ry=\"22\"/>\n<text text-anchor=\"middle\" x=\"235.5931\" y=\"-101.4984\" font-family=\"Times,serif\" font-size=\"14.00\" fill=\"#000000\">f</text>\n</g>\n<!-- ta -->\n<g id=\"node4\" class=\"node\">\n<title>ta</title>\n<ellipse fill=\"none\" stroke=\"#000000\" cx=\"151.3947\" cy=\"-192.1984\" rx=\"18\" ry=\"18\"/>\n<text text-anchor=\"middle\" x=\"151.3947\" y=\"-188.4984\" font-family=\"Times,serif\" font-size=\"14.00\" fill=\"#000000\">ta</text>\n</g>\n<!-- q0&#45;&gt;ta -->\n<g id=\"edge3\" class=\"edge\">\n<title>q0&#45;&gt;ta</title>\n<path fill=\"none\" stroke=\"#000000\" d=\"M83.2167,-123.2248C97.2932,-137.4656 116.9287,-157.3302 131.514,-172.0857\"/>\n<polygon fill=\"#000000\" stroke=\"#000000\" points=\"129.1054,-174.6278 138.6246,-179.2793 134.0838,-169.7068 129.1054,-174.6278\"/>\n<text text-anchor=\"middle\" x=\"111.6963\" y=\"-156.9984\" font-family=\"Times,serif\" font-size=\"14.00\" fill=\"#000000\">ε</text>\n</g>\n<!-- tc -->\n<g id=\"node5\" class=\"node\">\n<title>tc</title>\n<ellipse fill=\"none\" stroke=\"#000000\" cx=\"151.3947\" cy=\"-105.1984\" rx=\"18\" ry=\"18\"/>\n<text text-anchor=\"middle\" x=\"151.3947\" y=\"-101.4984\" font-family=\"Times,serif\" font-size=\"14.00\" fill=\"#000000\">tc</text>\n</g>\n<!-- q0&#45;&gt;tc -->\n<g id=\"edge2\" class=\"edge\">\n<title>q0&#45;&gt;tc</title>\n<path fill=\"none\" stroke=\"#000000\" d=\"M90.2719,-105.1984C100.5403,-105.1984 112.4966,-105.1984 123.0975,-105.1984\"/>\n<polygon fill=\"#000000\" stroke=\"#000000\" points=\"123.1341,-108.6985 133.134,-105.1984 123.134,-101.6985 123.1341,-108.6985\"/>\n<text text-anchor=\"middle\" x=\"111.6963\" y=\"-108.9984\" font-family=\"Times,serif\" font-size=\"14.00\" fill=\"#000000\">ε</text>\n</g>\n<!-- tb -->\n<g id=\"node6\" class=\"node\">\n<title>tb</title>\n<ellipse fill=\"none\" stroke=\"#000000\" cx=\"151.3947\" cy=\"-18.1984\" rx=\"18.399\" ry=\"18.399\"/>\n<text text-anchor=\"middle\" x=\"151.3947\" y=\"-14.4984\" font-family=\"Times,serif\" font-size=\"14.00\" fill=\"#000000\">tb</text>\n</g>\n<!-- q0&#45;&gt;tb -->\n<g id=\"edge4\" class=\"edge\">\n<title>q0&#45;&gt;tb</title>\n<path fill=\"none\" stroke=\"#000000\" d=\"M83.2167,-87.1719C97.2094,-73.0159 116.6952,-53.3028 131.253,-38.5751\"/>\n<polygon fill=\"#000000\" stroke=\"#000000\" points=\"133.8206,-40.9562 138.3614,-31.3837 128.8423,-36.0353 133.8206,-40.9562\"/>\n<text text-anchor=\"middle\" x=\"111.6963\" y=\"-64.9984\" font-family=\"Times,serif\" font-size=\"14.00\" fill=\"#000000\">ε</text>\n</g>\n<!-- ta&#45;&gt;f -->\n<g id=\"edge8\" class=\"edge\">\n<title>ta&#45;&gt;f</title>\n<path fill=\"none\" stroke=\"#000000\" d=\"M164.1826,-178.985C177.071,-165.6677 197.2356,-144.8322 212.8547,-128.6933\"/>\n<polygon fill=\"#000000\" stroke=\"#000000\" points=\"215.666,-130.8213 220.1054,-121.2014 210.6359,-125.9532 215.666,-130.8213\"/>\n<text text-anchor=\"middle\" x=\"191.5931\" y=\"-156.9984\" font-family=\"Times,serif\" font-size=\"14.00\" fill=\"#000000\">a</text>\n</g>\n<!-- ta&#45;&gt;ta -->\n<g id=\"edge5\" class=\"edge\">\n<title>ta&#45;&gt;ta</title>\n<path fill=\"none\" stroke=\"#000000\" d=\"M144.6611,-209.2357C143.2869,-219.0563 145.5314,-228.1984 151.3947,-228.1984 155.0592,-228.1984 157.3102,-224.6273 158.1476,-219.5513\"/>\n<polygon fill=\"#000000\" stroke=\"#000000\" points=\"161.6471,-219.2291 158.1283,-209.2357 154.6471,-219.2423 161.6471,-219.2291\"/>\n<text text-anchor=\"middle\" x=\"151.3947\" y=\"-231.9984\" font-family=\"Times,serif\" font-size=\"14.00\" fill=\"#000000\">b,c</text>\n</g>\n<!-- tc&#45;&gt;f -->\n<g id=\"edge10\" class=\"edge\">\n<title>tc&#45;&gt;f</title>\n<path fill=\"none\" stroke=\"#000000\" d=\"M169.6645,-105.1984C179.5145,-105.1984 191.9596,-105.1984 203.3769,-105.1984\"/>\n<polygon fill=\"#000000\" stroke=\"#000000\" points=\"203.4693,-108.6985 213.4692,-105.1984 203.4692,-101.6985 203.4693,-108.6985\"/>\n<text text-anchor=\"middle\" x=\"191.5931\" y=\"-108.9984\" font-family=\"Times,serif\" font-size=\"14.00\" fill=\"#000000\">c</text>\n</g>\n<!-- tc&#45;&gt;tc -->\n<g id=\"edge7\" class=\"edge\">\n<title>tc&#45;&gt;tc</title>\n<path fill=\"none\" stroke=\"#000000\" d=\"M144.6611,-122.2357C143.2869,-132.0563 145.5314,-141.1984 151.3947,-141.1984 155.0592,-141.1984 157.3102,-137.6273 158.1476,-132.5513\"/>\n<polygon fill=\"#000000\" stroke=\"#000000\" points=\"161.6471,-132.2291 158.1283,-122.2357 154.6471,-132.2423 161.6471,-132.2291\"/>\n<text text-anchor=\"middle\" x=\"151.3947\" y=\"-144.9984\" font-family=\"Times,serif\" font-size=\"14.00\" fill=\"#000000\">a,b</text>\n</g>\n<!-- tb&#45;&gt;f -->\n<g id=\"edge9\" class=\"edge\">\n<title>tb&#45;&gt;f</title>\n<path fill=\"none\" stroke=\"#000000\" d=\"M164.1826,-31.4118C177.071,-44.7291 197.2356,-65.5646 212.8547,-81.7034\"/>\n<polygon fill=\"#000000\" stroke=\"#000000\" points=\"210.6359,-84.4435 220.1054,-89.1953 215.666,-79.5754 210.6359,-84.4435\"/>\n<text text-anchor=\"middle\" x=\"191.5931\" y=\"-64.9984\" font-family=\"Times,serif\" font-size=\"14.00\" fill=\"#000000\">b</text>\n</g>\n<!-- tb&#45;&gt;tb -->\n<g id=\"edge6\" class=\"edge\">\n<title>tb&#45;&gt;tb</title>\n<path fill=\"none\" stroke=\"#000000\" d=\"M144.6611,-35.3296C143.2869,-45.2043 145.5314,-54.3968 151.3947,-54.3968 155.0592,-54.3968 157.3102,-50.806 158.1476,-45.702\"/>\n<polygon fill=\"#000000\" stroke=\"#000000\" points=\"161.647,-45.323 158.1283,-35.3296 154.647,-45.3361 161.647,-45.323\"/>\n<text text-anchor=\"middle\" x=\"151.3947\" y=\"-58.1968\" font-family=\"Times,serif\" font-size=\"14.00\" fill=\"#000000\">a,c</text>\n</g>\n</g>\n</svg>\n"
          },
          "metadata": {},
          "execution_count": 4
        }
      ]
    },
    {
      "cell_type": "markdown",
      "metadata": {
        "id": "UDIB4qHrmpy1"
      },
      "source": [
        "# Exercícios\n",
        "\n",
        "1. Construa um AFD para a seguinte linguagem sobre o alfabeto $\\Sigma = \\{0, 1\\}$: $\\{w \\in \\{0, 1\\}^* \\mid $ cada 0 de $w$ é imediatamente seguido de, no mínimo, dois 1's$\\}.$"
      ]
    },
    {
      "cell_type": "code",
      "metadata": {
        "colab": {
          "base_uri": "https://localhost:8080/"
        },
        "id": "OUkgaIISsX9p",
        "outputId": "26010b65-4857-40cf-b167-6e8df8ab8b1b"
      },
      "source": [
        "Q = {'0QProx0', '0QProx1', '0QProx2', '0QProxn', 'init'}\n",
        "Sigma = {'0', '1'}\n",
        "delta = {\n",
        "    ('init', \"\"): 'init', \n",
        "    ('init', '0'): '0QProx0',\n",
        "    ('0QProx2', '0'): '0QProx0',\n",
        "    ('0QProxn', '0'): '0QProx0',\n",
        "    ('init', '1'): 'init',\n",
        "    ('0QProx0', '1'): '0QProx1',\n",
        "    ('0QProx1', '1'): '0QProx2',\n",
        "    ('0QProx2', '1'): '0QProxn',\n",
        "    ('0QProxn', '1'): '0QProxn'\n",
        "}\n",
        "\n",
        "q0 = 'init'\n",
        "F = {'0QProx2', '0QProxn',  'init'}\n",
        "M = AFD(Q,Sigma,delta,q0,F)\n",
        "M.visualizar()\n",
        "M.aceita(\"\")"
      ],
      "execution_count": 14,
      "outputs": [
        {
          "output_type": "execute_result",
          "data": {
            "text/plain": [
              "True"
            ]
          },
          "metadata": {},
          "execution_count": 14
        }
      ]
    },
    {
      "cell_type": "markdown",
      "metadata": {
        "id": "KtD1cERXTjzK"
      },
      "source": [
        "2. Construa um AFD para a seguinte linguagem sobre o alfabeto $\\Sigma = \\{0, 1\\}$: O conjunto das palavras com no maximo três 1’s."
      ]
    },
    {
      "cell_type": "code",
      "metadata": {
        "colab": {
          "base_uri": "https://localhost:8080/"
        },
        "id": "VoFBd4O8pSUA",
        "outputId": "e92e3082-868e-4b7f-f103-ec980a41c23a"
      },
      "source": [
        "Q = {'0Um', '1Um', '2Um', '3Um'}\n",
        "Sigma = {'0', '1'}\n",
        "delta = {\n",
        "    ('0Um', '0'): '0Um',\n",
        "    ('1Um', '0'): '1Um',\n",
        "    ('2Um', '0'): '2Um',\n",
        "    ('3Um', '0'): '3Um',\n",
        "    ('0Um', '1'): '1Um',\n",
        "    ('1Um', '1'): '2Um',\n",
        "    ('2Um', '1'): '3Um',\n",
        "}\n",
        "\n",
        "q0 = '0Um'\n",
        "F = {'1Um', '2Um', '3Um'}\n",
        "\n",
        "M = AFD(Q,Sigma,delta,q0,F)\n",
        "M.visualizar()\n",
        "M.aceita(\"111\")"
      ],
      "execution_count": 15,
      "outputs": [
        {
          "output_type": "execute_result",
          "data": {
            "text/plain": [
              "True"
            ]
          },
          "metadata": {},
          "execution_count": 15
        }
      ]
    },
    {
      "cell_type": "markdown",
      "metadata": {
        "id": "r6vEMro0Csdk"
      },
      "source": [
        "3. Construa um AFN sobre $\\Sigma = \\{a, b, c\\}$ que reconheça o conjunto das palavras em que o último símbolo seja diferente do primeiro.\n"
      ]
    },
    {
      "cell_type": "code",
      "metadata": {
        "id": "Bv6J_bv9vcsH",
        "colab": {
          "base_uri": "https://localhost:8080/"
        },
        "outputId": "55987334-b161-43f5-afeb-4eb1b9464a5e"
      },
      "source": [
        "Q = {'init', 'Ia', 'Ib', 'Ic', 'f'}\n",
        "Sigma = {'a', 'b', 'c'}\n",
        "delta = {\n",
        "    ('init', 'a'): {'Ia'},\n",
        "    ('Ia', 'a'): {'Ia'}, \n",
        "    ('Ia', 'b'): {'Ia', 'f'},\n",
        "    ('Ia', 'c'): {'Ia', 'f'},\n",
        "    ('init', 'b'): {'Ib'},\n",
        "    ('Ib', 'a'): {'Ib', 'f'} ,\n",
        "    ('Ib', 'b'): {'Ib'},\n",
        "    ('Ib', 'c'): {'Ib', 'f'},\n",
        "    ('init', 'c'): {'Ic'},\n",
        "    ('Ic', 'a'): {'Ic', 'f'},\n",
        "    ('Ic', 'b'): {'Ic', 'f'},\n",
        "    ('Ic', 'c'): {'Ic'}\n",
        "}\n",
        "\n",
        "q0 = 'init'\n",
        "F = {'f'}\n",
        "M = AFN(Q,Sigma,delta,q0,F)\n",
        "M.visualizar()\n",
        "M.aceita(\"ab\") "
      ],
      "execution_count": 16,
      "outputs": [
        {
          "output_type": "execute_result",
          "data": {
            "text/plain": [
              "True"
            ]
          },
          "metadata": {},
          "execution_count": 16
        }
      ]
    },
    {
      "cell_type": "markdown",
      "metadata": {
        "id": "jfDkYzQMUljV"
      },
      "source": [
        "4. Construa um AFN sobre $\\Sigma = \\{a, b, c\\}$ que reconheça o conjunto das palavras com sufixo $abc$ ou $bca$. "
      ]
    },
    {
      "cell_type": "code",
      "metadata": {
        "id": "YccYSW5pzjiu",
        "colab": {
          "base_uri": "https://localhost:8080/"
        },
        "outputId": "4361886e-1d9f-4534-bf89-914dcbaf4f3a"
      },
      "source": [
        "Q = {'init', 'p', 'Ta', 'Tab', 'Tabc', 'Tb', 'Tbc', 'Tbca'}\n",
        "Sigma = {'a', 'b', 'c'}\n",
        "delta = {\n",
        "    ('init', 'a'): {'p'},\n",
        "    ('init', 'b'): {'p'},\n",
        "    ('init', 'c'): {'p'},\n",
        "    ('p', 'a'): {'p', 'Ta'},\n",
        "    ('p', 'b'): {'p', 'Tb'},\n",
        "    ('p', 'c'): {'p'},\n",
        "    ('Ta', 'b'): {'Tab'},\n",
        "    ('Tab', 'c'): {'Tabc'},\n",
        "    ('Tb', 'c'): {'Tbc'},\n",
        "    ('Tbc', 'a'): {'Tbca'}\n",
        "}\n",
        "\n",
        "q0 = 'init'\n",
        "F = {'Tabc', 'Tbca'}\n",
        "\n",
        "M = AFN(Q,Sigma,delta,q0,F)\n",
        "M.visualizar()\n",
        "M.aceita(\"bca\")"
      ],
      "execution_count": 17,
      "outputs": [
        {
          "output_type": "execute_result",
          "data": {
            "text/plain": [
              "False"
            ]
          },
          "metadata": {},
          "execution_count": 17
        }
      ]
    },
    {
      "cell_type": "markdown",
      "metadata": {
        "id": "haz4BKsH1af7"
      },
      "source": [
        "5. Para cada um dos problemas resolvidos URI, apresente:\n",
        "\n",
        "*   Uma **brevíssima** descrição do problema, em suas próprias palavras.\n",
        "*   A modelagem do problema utilizando um AFD. Utilize os recursos do Google Colab para visualizar o autômato.\n",
        "*   A solução em Python utilizando os conceitos expostos em aula.\n",
        "*   Utilize blocos de texto e código separados para cada atividade. \n",
        "\n"
      ]
    },
    {
      "cell_type": "markdown",
      "metadata": {
        "id": "k8Vn_hxQWrPZ"
      },
      "source": [
        ""
      ]
    },
    {
      "cell_type": "code",
      "metadata": {
        "id": "IjHN8Wy5nXIw"
      },
      "source": [
        ""
      ],
      "execution_count": null,
      "outputs": []
    },
    {
      "cell_type": "markdown",
      "metadata": {
        "id": "o4YIl2A4YUef"
      },
      "source": [
        "##R+L=J\n",
        "\n",
        "Ler linhas de entrada fornecendo strings no formato \"R+L=J\", onde duas icógnitas terão valores inteiros atribuídos.\n",
        "\n",
        "Separar os valores da icógnita, identificá-la em relação a R, L ou J e atribuir seu valor em função da equação fornecida.\n",
        "\n",
        "Fazer o tratamento de entrada de dados, possibilitando a entrada das strings até o fim do documento de entrada.\n",
        "\n",
        "![image.png](data:image/png;base64,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)"
      ]
    },
    {
      "cell_type": "code",
      "metadata": {
        "id": "yvZ9kz_jX4bb"
      },
      "source": [
        "#funcao principal em python\n",
        "def passagem(n):\n",
        "    #manipulacao da entrada, separando os valores inteiros e a icognita em uma lista\n",
        "    n = n.replace('+', ' ').replace('=', ' ').split(' ')\n",
        "    \n",
        "    #checagem, para cada elemento, se eh um caractere alfabetico. Uma vez\n",
        "    #identificada a icógnita, retorna seu valor correspondente\n",
        "    if n[0].isalpha():\n",
        "        #se icognita = R\n",
        "        return int(n[2]) - int(n[1])  # R + x = z\n",
        "                                      # R = z - x\n",
        "    elif n[1].isalpha():\n",
        "        #se icognita = L\n",
        "        return int(n[2]) - int(n[0])  # y + L = z\n",
        "                                      # L = z - y\n",
        "    else:\n",
        "        #se icognita = J\n",
        "        return int(n[0]) + int(n[1])  # y + x = J\n",
        "\n",
        "#tratemnto de excecao para manter o funcionamento\n",
        "#da entrada de dados\n",
        "while 1: \n",
        "    try: \n",
        "        print(passagem(input()))         \n",
        "    except EOFError: \n",
        "        break"
      ],
      "execution_count": null,
      "outputs": []
    },
    {
      "cell_type": "code",
      "metadata": {
        "colab": {
          "base_uri": "https://localhost:8080/"
        },
        "id": "k2GfaSTocF6N",
        "outputId": "8fce482e-3655-47d9-e05e-7574b7dd5025"
      },
      "source": [
        "#AFD\n",
        "Q = {'init', 'r1', 'r2', 'r3', 'r4', 'r5', 'a1', 'a2', 'l1', 'l2', 'l3', 'j1', 'j2', 'j3'}\n",
        "Sigma = {'R', 'L', 'J', '+', '=', 'N'}  #N = caractere pertencente ao conjunto de caracteres [0, 9]\n",
        "delta = {\n",
        "    ('init', 'R'): 'r1',\n",
        "    ('init', 'N'): 'a1',\n",
        "    ('r1', '+'): 'r2',\n",
        "    ('r2', 'N'): 'r3',\n",
        "    ('r3', 'N'): 'r3',\n",
        "    ('r3', '='): 'r4',\n",
        "    ('r4', 'N'): 'r5',\n",
        "    ('r5', 'N'): 'r5',\n",
        "    ('r5', ''): 'f',\n",
        "    ('a1', 'N'): 'a1',\n",
        "    ('a1', '+'): 'a2',\n",
        "    ('a2', 'L'): 'l1',\n",
        "    ('l1', '='): 'l2',\n",
        "    ('l2', 'N'): 'l3',\n",
        "    ('l3', 'N'): 'l3',\n",
        "    ('l3', ''): 'f',\n",
        "    ('a2', 'N'): 'j1',\n",
        "    ('j1', 'N'): 'j1',\n",
        "    ('j1', '='): 'j2',\n",
        "    ('j2', 'J'): 'j3',\n",
        "    ('j3', ''): 'f'\n",
        "\n",
        "}\n",
        "\n",
        "q0 = 'init'\n",
        "F = {'f'}\n",
        "\n",
        "M = AFD(Q,Sigma,delta,q0,F)\n",
        "M.visualizar()\n",
        "M.aceita(\"R+L=J\")"
      ],
      "execution_count": 18,
      "outputs": [
        {
          "output_type": "execute_result",
          "data": {
            "text/plain": [
              "False"
            ]
          },
          "metadata": {},
          "execution_count": 18
        }
      ]
    }
  ]
}